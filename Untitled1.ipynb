{
 "cells": [
  {
   "cell_type": "code",
   "execution_count": 2,
   "id": "3d4206ff-1b0f-4bb8-b823-0f9c2ca3163f",
   "metadata": {},
   "outputs": [],
   "source": [
    "import pandas as pd"
   ]
  },
  {
   "cell_type": "code",
   "execution_count": 5,
   "id": "e3e669da-9780-4c17-b00a-b23f077af4ea",
   "metadata": {},
   "outputs": [
    {
     "name": "stdout",
     "output_type": "stream",
     "text": [
      "0     13\n",
      "1    341\n",
      "2     56\n",
      "dtype: int64\n"
     ]
    }
   ],
   "source": [
    "a=[13,341,56]\n",
    "r=pd.Series(a)\n",
    "print(r)"
   ]
  },
  {
   "cell_type": "code",
   "execution_count": 8,
   "id": "58701237-c65a-4989-853e-adf6034336e1",
   "metadata": {},
   "outputs": [
    {
     "name": "stdout",
     "output_type": "stream",
     "text": [
      "1     13\n",
      "2    341\n",
      "3     56\n",
      "dtype: int64\n"
     ]
    }
   ],
   "source": [
    "a=[13,341,56]\n",
    "r=pd.Series(a,index=[1,2,3])\n",
    "print(r)"
   ]
  },
  {
   "cell_type": "code",
   "execution_count": 17,
   "id": "6a4267b5-5024-4fda-b32c-5722aa9aea6b",
   "metadata": {},
   "outputs": [
    {
     "name": "stdout",
     "output_type": "stream",
     "text": [
      "         country  gold_medal\n",
      "0  United States        46.0\n",
      "1  Great Britian        27.0\n",
      "2          China        26.0\n",
      "3         Russia        19.0\n",
      "4        Germany        17.0\n",
      "5          India         NaN\n"
     ]
    }
   ],
   "source": [
    "r=pd.read_csv('medal.csv')\n",
    "print(r)"
   ]
  },
  {
   "cell_type": "code",
   "execution_count": 22,
   "id": "3834c0dd-a5cc-41de-9936-c44b2fdc6290",
   "metadata": {},
   "outputs": [
    {
     "name": "stdout",
     "output_type": "stream",
     "text": [
      "         country  gold_medal\n",
      "0  United States        46.0\n",
      "1  Great Britian        27.0\n",
      "2          China        26.0\n",
      "3         Russia        19.0\n",
      "4        Germany        17.0\n",
      "5          India        27.0\n"
     ]
    }
   ],
   "source": [
    "r=pd.read_csv('medal.csv')\n",
    "mean=r['gold_medal'].mean()\n",
    "r['gold_medal'].fillna(mean,inplace=True)\n",
    "print(r)\n"
   ]
  },
  {
   "cell_type": "code",
   "execution_count": null,
   "id": "fa788089-7280-4896-a276-19d43f379e2e",
   "metadata": {},
   "outputs": [],
   "source": []
  }
 ],
 "metadata": {
  "kernelspec": {
   "display_name": "Python 3 (ipykernel)",
   "language": "python",
   "name": "python3"
  },
  "language_info": {
   "codemirror_mode": {
    "name": "ipython",
    "version": 3
   },
   "file_extension": ".py",
   "mimetype": "text/x-python",
   "name": "python",
   "nbconvert_exporter": "python",
   "pygments_lexer": "ipython3",
   "version": "3.8.0"
  }
 },
 "nbformat": 4,
 "nbformat_minor": 5
}
