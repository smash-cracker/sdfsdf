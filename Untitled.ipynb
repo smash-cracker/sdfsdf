{
 "cells": [
  {
   "cell_type": "code",
   "execution_count": null,
   "id": "1cc25814-d1dd-4d0e-9c29-f02ab455463b",
   "metadata": {},
   "outputs": [],
   "source": [
    "print(2)"
   ]
  },
  {
   "cell_type": "code",
   "execution_count": null,
   "id": "ab61faa1-ef2d-46f3-a6ce-88370663e22b",
   "metadata": {},
   "outputs": [],
   "source": [
    "x = [1,2,3,4,5]"
   ]
  },
  {
   "cell_type": "code",
   "execution_count": null,
   "id": "ac0663df-266e-4add-b6da-0840d1794f85",
   "metadata": {},
   "outputs": [],
   "source": [
    "x"
   ]
  },
  {
   "cell_type": "code",
   "execution_count": null,
   "id": "8b7d7987-c0ca-40b0-998f-f2a5f4a684d5",
   "metadata": {},
   "outputs": [],
   "source": [
    "y = [2,3,1,2,3]\n"
   ]
  },
  {
   "cell_type": "code",
   "execution_count": null,
   "id": "26a59cc9-3fe2-4d22-a47b-62a7a8912c94",
   "metadata": {},
   "outputs": [],
   "source": [
    "x"
   ]
  },
  {
   "cell_type": "code",
   "execution_count": null,
   "id": "1584722c-81f8-43a9-8cb2-9cdbf1eb72f5",
   "metadata": {},
   "outputs": [],
   "source": [
    "y"
   ]
  },
  {
   "cell_type": "code",
   "execution_count": null,
   "id": "bc4f56df-ff5d-4099-b6b9-56f9ecab7435",
   "metadata": {},
   "outputs": [],
   "source": [
    "for i in range(5):\n",
    "    if x[i]>y[i]:\n",
    "        print(x[i] , \"is greater than\" , y[i])\n",
    "    elif x[i] < y[i]:\n",
    "        print(x[i] , \"is less than\" , y[i])\n",
    "    else:\n",
    "        print(x[i] , \"is equal to\" , y[i])\n",
    "    "
   ]
  },
  {
   "cell_type": "code",
   "execution_count": null,
   "id": "4e3b336e-73d3-4327-a66a-08b978eac44e",
   "metadata": {},
   "outputs": [],
   "source": [
    "import numpy as np\n"
   ]
  },
  {
   "cell_type": "code",
   "execution_count": null,
   "id": "745140af-bd79-457c-8799-bec2a132ceda",
   "metadata": {},
   "outputs": [],
   "source": [
    "pip install numpy\n"
   ]
  },
  {
   "cell_type": "code",
   "execution_count": null,
   "id": "10fd6e3a-b93c-4068-b19a-91533408af67",
   "metadata": {},
   "outputs": [],
   "source": [
    "import numpy\n"
   ]
  },
  {
   "cell_type": "code",
   "execution_count": null,
   "id": "45dcf104-ab35-4db6-8e71-6cb4e712950b",
   "metadata": {},
   "outputs": [],
   "source": [
    "arr = numpy.array([1,2,3])"
   ]
  },
  {
   "cell_type": "code",
   "execution_count": null,
   "id": "858387c5-4213-4c01-9e34-68d9b7a67605",
   "metadata": {},
   "outputs": [],
   "source": [
    "import numpy as np"
   ]
  },
  {
   "cell_type": "code",
   "execution_count": null,
   "id": "4d46ee36-3c5e-4ce3-9ca7-6f31ba080f7d",
   "metadata": {},
   "outputs": [],
   "source": [
    "arr = np.array([1,2,3])"
   ]
  },
  {
   "cell_type": "code",
   "execution_count": null,
   "id": "c3723f64-99a0-4272-ad25-3581cd3453ca",
   "metadata": {},
   "outputs": [],
   "source": [
    "arr"
   ]
  },
  {
   "cell_type": "code",
   "execution_count": null,
   "id": "a125c732-23f1-4365-a89f-08908e35dde4",
   "metadata": {},
   "outputs": [],
   "source": [
    "type(arr)"
   ]
  },
  {
   "cell_type": "code",
   "execution_count": null,
   "id": "7a3e02ba-7a9d-4375-82ca-56cda00c4638",
   "metadata": {},
   "outputs": [],
   "source": [
    "clear"
   ]
  },
  {
   "cell_type": "code",
   "execution_count": null,
   "id": "b5b3c684-f3fb-45f2-98af-e64c903d5ace",
   "metadata": {},
   "outputs": [],
   "source": [
    "x = np.array([1,2,3,4])\n",
    "y = np.array([3,2,1,4])\n",
    "for i in range(5):\n",
    "    if x[i]>y[i]:\n",
    "        print(x[i] , \"is greater than\" , y[i])\n",
    "    elif x[i] < y[i]:\n",
    "        print(x[i] , \"is less than\" , y[i])\n",
    "    else:\n",
    "        print(x[i] , \"is equal to\" , y[i])\n",
    "    "
   ]
  },
  {
   "cell_type": "code",
   "execution_count": null,
   "id": "6ec88ace-702b-4185-a750-d801fd75254e",
   "metadata": {},
   "outputs": [],
   "source": [
    "even = numpy.array([])\n",
    "for i in range(30,70):\n",
    "    if i%2==0:\n",
    "        np.append(even,i)\n",
    "print(even)\n",
    "        "
   ]
  },
  {
   "cell_type": "code",
   "execution_count": null,
   "id": "af5f4799-83aa-412e-ab73-86e044f8c30d",
   "metadata": {},
   "outputs": [],
   "source": [
    "import numpy"
   ]
  },
  {
   "cell_type": "code",
   "execution_count": null,
   "id": "f05f06b8-e1fc-4616-911a-e475817c46fc",
   "metadata": {},
   "outputs": [],
   "source": [
    "even = numpy.array([])\n",
    "for i in range(30,70):\n",
    "    if i%2==0:\n",
    "        print(i)\n",
    "        even=numpy.append(even,i)\n",
    "for x in even:\n",
    "    print(x)"
   ]
  },
  {
   "cell_type": "code",
   "execution_count": null,
   "id": "901a4acb-5fa2-46c7-9a8a-e2d37c1ebd4c",
   "metadata": {},
   "outputs": [],
   "source": [
    "even = numpy.append(even,3)\n",
    "print(even)"
   ]
  },
  {
   "cell_type": "code",
   "execution_count": 1,
   "id": "d59247e9-71ee-4b22-a20d-9ff7e4ed1e59",
   "metadata": {},
   "outputs": [],
   "source": [
    "import numpy as np\n",
    "id = np.identity(3)"
   ]
  },
  {
   "cell_type": "code",
   "execution_count": 2,
   "id": "2a61e48d-a806-4172-abf8-2bade535cc59",
   "metadata": {},
   "outputs": [
    {
     "data": {
      "text/plain": [
       "array([[1., 0., 0.],\n",
       "       [0., 1., 0.],\n",
       "       [0., 0., 1.]])"
      ]
     },
     "execution_count": 2,
     "metadata": {},
     "output_type": "execute_result"
    }
   ],
   "source": [
    "id"
   ]
  },
  {
   "cell_type": "code",
   "execution_count": 17,
   "id": "83cb3a3d-2c2b-4cb8-acec-ce942344638c",
   "metadata": {},
   "outputs": [
    {
     "name": "stdout",
     "output_type": "stream",
     "text": [
      "0\n",
      "1\n",
      "2\n",
      "3\n",
      "4\n",
      "5\n",
      "6\n",
      "7\n",
      "8\n",
      "yes\n",
      "9\n",
      "yes\n",
      "10\n",
      "yes\n",
      "11\n",
      "yes\n",
      "12\n",
      "yes\n",
      "13\n",
      "yes\n",
      "14\n",
      "yes\n",
      "15\n",
      "16\n",
      "17\n",
      "18\n",
      "19\n",
      "[  1   2   3   4   5   6   7   8  -9 -10 -11 -12 -13 -14 -15  16  17  18\n",
      "  19  20]\n"
     ]
    }
   ],
   "source": [
    "list = []\n",
    "for i in range(20):\n",
    "    list.append(i+1)\n",
    "a = np.array(list)\n",
    "for i,x in enumerate(a):\n",
    "    print(i)\n",
    "    if x >=9 and x<=15:\n",
    "        a[i]=-x\n",
    "print(a)"
   ]
  },
  {
   "cell_type": "code",
   "execution_count": 8,
   "id": "7bfdf3a2-a167-489a-ae52-3cca15be27f5",
   "metadata": {},
   "outputs": [
    {
     "data": {
      "text/plain": [
       "array([ 1,  2,  3,  4,  5,  6,  7,  8,  9, 10, 11, 12, 13, 14, 15, 16, 17,\n",
       "       18, 19, 20])"
      ]
     },
     "execution_count": 8,
     "metadata": {},
     "output_type": "execute_result"
    }
   ],
   "source": [
    "a"
   ]
  },
  {
   "cell_type": "code",
   "execution_count": 9,
   "id": "4a3eab75-7c26-4123-ab24-383aecfc5cfc",
   "metadata": {},
   "outputs": [
    {
     "data": {
      "text/plain": [
       "numpy.ndarray"
      ]
     },
     "execution_count": 9,
     "metadata": {},
     "output_type": "execute_result"
    }
   ],
   "source": [
    "type(a)\n"
   ]
  },
  {
   "cell_type": "code",
   "execution_count": 75,
   "id": "0d429a6f-e5fa-478b-881b-8272b8f4e9d9",
   "metadata": {},
   "outputs": [
    {
     "name": "stdout",
     "output_type": "stream",
     "text": [
      "[[1 0 0 0 0]\n",
      " [0 2 0 0 0]\n",
      " [0 0 3 0 0]\n",
      " [0 0 0 4 0]\n",
      " [0 0 0 0 5]]\n"
     ]
    }
   ],
   "source": [
    "z = np.zeros([5,5],dtype=int)\n",
    "np.fill_diagonal(z,[1,2,3,4,5])\n",
    "print(z)"
   ]
  },
  {
   "cell_type": "code",
   "execution_count": 24,
   "id": "e5e68c9c-34dc-40a6-bd45-a129873991f4",
   "metadata": {},
   "outputs": [
    {
     "data": {
      "text/plain": [
       "array([[0, 0, 0, 0, 0],\n",
       "       [0, 0, 0, 0, 0],\n",
       "       [0, 0, 0, 0, 0],\n",
       "       [0, 0, 0, 0, 0],\n",
       "       [0, 0, 0, 0, 0]])"
      ]
     },
     "execution_count": 24,
     "metadata": {},
     "output_type": "execute_result"
    }
   ],
   "source": [
    "z"
   ]
  },
  {
   "cell_type": "code",
   "execution_count": 32,
   "id": "a5cd3edd-08ce-4500-ac34-973338537c86",
   "metadata": {},
   "outputs": [],
   "source": [
    "sum = np.random.randint(10,size=(3,4))"
   ]
  },
  {
   "cell_type": "code",
   "execution_count": 33,
   "id": "4a02b2e5-63d6-49b9-96c7-b5507a91b007",
   "metadata": {},
   "outputs": [
    {
     "data": {
      "text/plain": [
       "array([[0, 3, 6, 1],\n",
       "       [5, 9, 4, 1],\n",
       "       [2, 9, 9, 7]])"
      ]
     },
     "execution_count": 33,
     "metadata": {},
     "output_type": "execute_result"
    }
   ],
   "source": [
    "sum"
   ]
  },
  {
   "cell_type": "code",
   "execution_count": 36,
   "id": "f3e84b17-3182-43b0-a935-80fcc1128a89",
   "metadata": {},
   "outputs": [
    {
     "data": {
      "text/plain": [
       "56"
      ]
     },
     "execution_count": 36,
     "metadata": {},
     "output_type": "execute_result"
    }
   ],
   "source": [
    "np.sum(sum,axis=0) #column\n",
    "np.sum(sum,axis=1) #row\n",
    "np.sum(sum) #elements\n"
   ]
  },
  {
   "cell_type": "code",
   "execution_count": 39,
   "id": "782be137-cf7b-4219-b505-83426309d0f7",
   "metadata": {},
   "outputs": [
    {
     "name": "stdout",
     "output_type": "stream",
     "text": [
      "[[1 3 3]\n",
      " [8 5 5]\n",
      " [6 5 4]]\n"
     ]
    }
   ],
   "source": [
    "text = np.random.randint(10,size=(3,3))\n",
    "print(text)"
   ]
  },
  {
   "cell_type": "code",
   "execution_count": 49,
   "id": "7fe5008a-b2ec-43fd-ae2a-9b0b8585bd78",
   "metadata": {},
   "outputs": [
    {
     "data": {
      "text/plain": [
       "array([[1, 3, 3],\n",
       "       [8, 5, 5],\n",
       "       [6, 5, 4]])"
      ]
     },
     "execution_count": 49,
     "metadata": {},
     "output_type": "execute_result"
    }
   ],
   "source": [
    "np.savetxt(\"file.txt\",text,fmt=\"%.d\")\n",
    "np.loadtxt(\"file.txt\",dtype=\"int\")"
   ]
  },
  {
   "cell_type": "code",
   "execution_count": 52,
   "id": "851b918c-c301-4e2c-9abf-612a3abaafb0",
   "metadata": {},
   "outputs": [
    {
     "data": {
      "text/plain": [
       "True"
      ]
     },
     "execution_count": 52,
     "metadata": {},
     "output_type": "execute_result"
    }
   ],
   "source": [
    "a1 = np.random.randint(1,size=(3,3))\n",
    "a2 = np.random.randint(1,size=(3,3))\n",
    "np.array_equal(a1,a2)"
   ]
  },
  {
   "cell_type": "code",
   "execution_count": 61,
   "id": "e04d720e-cd10-4ed0-a375-da8dc5ab6a44",
   "metadata": {},
   "outputs": [
    {
     "data": {
      "text/plain": [
       "array([[2, 4, 1, 3],\n",
       "       [0, 1, 0, 2],\n",
       "       [3, 2, 2, 4],\n",
       "       [0, 2, 0, 2]])"
      ]
     },
     "execution_count": 61,
     "metadata": {},
     "output_type": "execute_result"
    }
   ],
   "source": [
    "a1 = np.random.randint(5,size=(4,4))\n",
    "a1\n"
   ]
  },
  {
   "cell_type": "code",
   "execution_count": 63,
   "id": "7df24070-255c-4106-b2a8-068ff6cdae0e",
   "metadata": {},
   "outputs": [
    {
     "data": {
      "text/plain": [
       "array([[0, 2, 0, 2],\n",
       "       [0, 1, 0, 2],\n",
       "       [3, 2, 2, 4],\n",
       "       [2, 4, 1, 3]])"
      ]
     },
     "execution_count": 63,
     "metadata": {},
     "output_type": "execute_result"
    }
   ],
   "source": [
    "a1[[3,0]]=a1[[0,3]]\n",
    "a1"
   ]
  },
  {
   "cell_type": "code",
   "execution_count": 71,
   "id": "4f3d2511-6a5b-4b64-9c84-3e951f0725fd",
   "metadata": {},
   "outputs": [
    {
     "data": {
      "text/plain": [
       "array([[3, 2, 2],\n",
       "       [2, 3, 4],\n",
       "       [1, 3, 1]])"
      ]
     },
     "execution_count": 71,
     "metadata": {},
     "output_type": "execute_result"
    }
   ],
   "source": [
    "a1 = np.random.randint(5,size=(3,3))\n",
    "a1"
   ]
  },
  {
   "cell_type": "code",
   "execution_count": 72,
   "id": "645524c8-f661-4a1e-9a8e-185d2d3b01fb",
   "metadata": {},
   "outputs": [
    {
     "data": {
      "text/plain": [
       "array([[0, 2, 3],\n",
       "       [4, 2, 2],\n",
       "       [4, 1, 4]])"
      ]
     },
     "execution_count": 72,
     "metadata": {},
     "output_type": "execute_result"
    }
   ],
   "source": [
    "a2 = np.random.randint(5,size=(3,3))\n",
    "a2"
   ]
  },
  {
   "cell_type": "code",
   "execution_count": 73,
   "id": "188ad2d8-66ab-440d-b494-42aab158da60",
   "metadata": {},
   "outputs": [
    {
     "data": {
      "text/plain": [
       "array([[0, 4, 6],\n",
       "       [8, 6, 8],\n",
       "       [4, 3, 4]])"
      ]
     },
     "execution_count": 73,
     "metadata": {},
     "output_type": "execute_result"
    }
   ],
   "source": [
    "a3=np.multiply(a1,a2)\n",
    "a3"
   ]
  },
  {
   "cell_type": "code",
   "execution_count": 77,
   "id": "d83eab23-924a-4fb7-aff8-6cb66d2c6d28",
   "metadata": {},
   "outputs": [
    {
     "data": {
      "text/plain": [
       "array([30, 32, 34, 36, 38, 40, 42, 44, 46, 48, 50])"
      ]
     },
     "execution_count": 77,
     "metadata": {},
     "output_type": "execute_result"
    }
   ],
   "source": [
    "\n",
    "np.arange(30,52,2)\n"
   ]
  },
  {
   "cell_type": "code",
   "execution_count": 94,
   "id": "89637fb9-ee92-4dd5-beef-6dc84867d659",
   "metadata": {},
   "outputs": [
    {
     "name": "stdout",
     "output_type": "stream",
     "text": [
      "Array\n",
      " [[ 8 14 16]\n",
      " [19  1  9]\n",
      " [ 4  2  8]]\n",
      "sum of column 1  is 31\n",
      "sum of column 2  is 17\n",
      "sum of column 3  is 33\n",
      "sum of row 1  is 38\n",
      "sum of row 2  is 29\n",
      "sum of row 3  is 14\n",
      "sum of elements 81\n"
     ]
    }
   ],
   "source": [
    "sumArray = np.random.randint(20,size=(3,3))\n",
    "print(\"Array\\n\",sumArray)\n",
    "columnArray = np.sum(sumArray,axis=0) #column\n",
    "for i,x in enumerate(columnArray):\n",
    "    print(\"sum of column\", i+1,\" is\",x)\n",
    "rowArray = np.sum(sumArray,axis=1) #row\n",
    "for i,x in enumerate(rowArray):\n",
    "    print(\"sum of row\", i+1,\" is\",x)\n",
    "print(\"sum of elements\",np.sum(sumArray))"
   ]
  },
  {
   "cell_type": "code",
   "execution_count": 95,
   "id": "27e1e819-36d8-42cb-bdee-388746320add",
   "metadata": {},
   "outputs": [
    {
     "data": {
      "text/plain": [
       "array([[18, 12, 16],\n",
       "       [ 0,  8, 11],\n",
       "       [17, 10,  7]])"
      ]
     },
     "execution_count": 95,
     "metadata": {},
     "output_type": "execute_result"
    }
   ],
   "source": [
    "textArray = np.random.randint(20,size=(3,3))\n",
    "np.savetxt(\"file.txt\",textArray,fmt=\"%.d\")\n",
    "np.loadtxt(\"file.txt\",dtype=\"int\")"
   ]
  },
  {
   "cell_type": "code",
   "execution_count": 96,
   "id": "db1ace52-5aac-4587-902e-0b717b8cbc18",
   "metadata": {},
   "outputs": [
    {
     "name": "stdout",
     "output_type": "stream",
     "text": [
      "Original numbers:\n",
      "[3, 5, 6]\n",
      "[2, 5, 7]\n",
      "Comparison - greater\n",
      "[ True False False]\n",
      "Comparison - greater_equal\n",
      "[ True  True False]\n",
      "Comparison - less\n",
      "[False False  True]\n",
      "Comparison - less_equal\n",
      "[False  True  True]\n"
     ]
    }
   ],
   "source": [
    "import numpy as np\n",
    "x = [3, 5,6]\n",
    "y = [2, 5,7]\n",
    "print(\"Original numbers:\")\n",
    "print(x)\n",
    "print(y)\n",
    "print(\"Comparison - greater\")\n",
    "print(np.greater(x, y))\n",
    "print(\"Comparison - greater_equal\")\n",
    "print(np.greater_equal(x, y))\n",
    "print(\"Comparison - less\")\n",
    "print(np.less(x, y))\n",
    "print(\"Comparison - less_equal\")\n",
    "print(np.less_equal(x, y))\n"
   ]
  },
  {
   "cell_type": "code",
   "execution_count": 98,
   "id": "0c7d3509-14c0-424d-a873-7e58864a9b0e",
   "metadata": {},
   "outputs": [
    {
     "name": "stdout",
     "output_type": "stream",
     "text": [
      "[  0   1   2   3   4   5   6   7   8  -9 -10 -11 -12 -13 -14 -15  16  17\n",
      "  18  19  20]\n"
     ]
    }
   ],
   "source": [
    "a = np.arange(21)\n",
    "for i,x in enumerate(a):\n",
    "    if x >=9 and x<=15:\n",
    "        a[i]=-x\n",
    "print(a)\n"
   ]
  },
  {
   "cell_type": "code",
   "execution_count": 2,
   "id": "a20350d5-851b-41d3-a447-78ac2cecd457",
   "metadata": {},
   "outputs": [],
   "source": [
    "import matplotlib"
   ]
  },
  {
   "cell_type": "code",
   "execution_count": 4,
   "id": "731efe5e-78d9-458b-9648-f8856f47afea",
   "metadata": {},
   "outputs": [
    {
     "data": {
      "image/png": "[encoded data removed]",
      "text/plain": [
       "<Figure size 432x288 with 1 Axes>"
      ]
     },
     "metadata": {
      "needs_background": "light"
     },
     "output_type": "display_data"
    }
   ],
   "source": [
    "import numpy as np\n",
    "import matplotlib.pyplot as plt\n",
    "x=np.array([1,2,6,18])\n",
    "y=np.array([3,10,12,20])\n",
    "plt.plot(x,y,'o:r',mec='g',mfc='g')\n",
    "plt.show()"
   ]
  },
  {
   "cell_type": "code",
   "execution_count": 5,
   "id": "81f0b38c-0ea8-4afc-aa76-5a6b391ebd67",
   "metadata": {},
   "outputs": [
    {
     "data": {
      "image/png": "[encoded data removed]",
      "text/plain": [
       "<Figure size 432x288 with 1 Axes>"
      ]
     },
     "metadata": {
      "needs_background": "light"
     },
     "output_type": "display_data"
    }
   ],
   "source": [
    "import numpy as np\n",
    "import matplotlib.pyplot as plt\n",
    "x = np.array([12,14,16,18,20,22,24])\n",
    "y = np.array([100,200,250,400,300,450,500])\n",
    "plt.plot(x, y)\n",
    "\n",
    "plt.xlabel(\"Temperature (celsius)\")\n",
    "plt.ylabel(\"Sales\")\n",
    "\n",
    "plt.show()"
   ]
  },
  {
   "cell_type": "code",
   "execution_count": 20,
   "id": "207a67b3-d198-49b9-be91-cc78bfbda94e",
   "metadata": {},
   "outputs": [
    {
     "data": {
      "image/png": "[encoded data removed]",
      "text/plain": [
       "<Figure size 432x288 with 1 Axes>"
      ]
     },
     "metadata": {
      "needs_background": "light"
     },
     "output_type": "display_data"
    }
   ],
   "source": [
    "xValues = []\n",
    "yValues = []\n",
    "count = 0\n",
    "axisValues = np.loadtxt(\"values.txt\",dtype=\"int\")\n",
    "for x in axisValues:\n",
    "    if count%2==0:\n",
    "        xValues.append(axisValues[count])\n",
    "    else:\n",
    "        yValues.append(axisValues[count])\n",
    "    count+=1\n",
    "    \n",
    "plt.plot(xValues, yValues)\n",
    "plt.xlabel(\"Time\")\n",
    "plt.ylabel(\"Bitcoin\")\n",
    "plt.show()"
   ]
  },
  {
   "cell_type": "code",
   "execution_count": 33,
   "id": "5464b709-09a3-455a-b20c-0192b39a6b0b",
   "metadata": {},
   "outputs": [
    {
     "data": {
      "image/png": "[encoded data removed]",
      "text/plain": [
       "<Figure size 432x288 with 1 Axes>"
      ]
     },
     "metadata": {
      "needs_background": "light"
     },
     "output_type": "display_data"
    }
   ],
   "source": [
    "import numpy as np\n",
    "import matplotlib.pyplot as plt\n",
    "x=np.array([\"java\",\"python\",\"php\",\"javascript\",\"c#\",\"c++\"])\n",
    "y=np.array([22.2,17.6,8.8,8,77,6.7])\n",
    "plt.barh(x,y,color=['red','blue','green','orange','white','cyan'])\n",
    "plt.show()"
   ]
  },
  {
   "cell_type": "code",
   "execution_count": 32,
   "id": "40271d84-1539-4413-954e-07301276e0a6",
   "metadata": {},
   "outputs": [
    {
     "data": {
      "image/png": "[encoded data removed]",
      "text/plain": [
       "<Figure size 432x288 with 1 Axes>"
      ]
     },
     "metadata": {
      "needs_background": "light"
     },
     "output_type": "display_data"
    }
   ],
   "source": [
    "\n",
    "x1 = [10,20,30]\n",
    "y1 = [10,20,30]\n",
    "plt.plot(x1, y1, label = \"line 1\")\n",
    "\n",
    "x2 = [30,40,50]\n",
    "y2 = [30,40,50]\n",
    "plt.plot(x2, y2, label = \"line 2\")\n",
    "\n",
    "plt.xlabel('x axis')\n",
    "plt.ylabel('y axis')\n",
    "\n",
    "plt.title('Two Line plot')\n",
    "\n",
    "plt.legend()\n",
    "plt.show()"
   ]
  },
  {
   "cell_type": "code",
   "execution_count": 62,
   "id": "b05bbadc-5e65-4548-b2bc-74dd097d6cd9",
   "metadata": {},
   "outputs": [
    {
     "data": {
      "image/png": "[encoded data removed]",
      "text/plain": [
       "<Figure size 432x288 with 1 Axes>"
      ]
     },
     "metadata": {
      "needs_background": "light"
     },
     "output_type": "display_data"
    }
   ],
   "source": [
    "import matplotlib.pyplot as plt\n",
    "import numpy as np\n",
    "\n",
    "x = np.arange(5)\n",
    "y1 = [22, 30, 35, 35, 26]\n",
    "y2 = [25, 32, 30, 35, 29]\n",
    "width = 0.2\n",
    "\n",
    "plt.bar(x-0.2, y1, width, color='green')\n",
    "plt.bar(x, y2, width, color='red')\n",
    "plt.xticks(x, ['G1', 'G2', 'G3', 'G4', 'G5'])\n",
    "plt.xlabel(\"Person\")\n",
    "plt.ylabel(\"Scores\")\n",
    "plt.legend([\"Men\", \"Women\"])\n",
    "plt.show()\n"
   ]
  },
  {
   "cell_type": "code",
   "execution_count": 63,
   "id": "40b5a686-dedc-40a0-99f5-4805bb5df58e",
   "metadata": {},
   "outputs": [
    {
     "data": {
      "image/png": "[encoded data removed]",
      "text/plain": [
       "<Figure size 432x288 with 1 Axes>"
      ]
     },
     "metadata": {
      "needs_background": "light"
     },
     "output_type": "display_data"
    }
   ],
   "source": [
    "\n",
    "\n",
    "\n",
    "import matplotlib.pyplot as plt\n",
    "\n",
    "x = [10, 20, 30, 40, 50, 60, 70, 80, 90, 100]\n",
    "m = [88, 92, 80, 89, 100, 80, 60, 100, 80, 34]\n",
    "s = [35, 79, 79, 48, 100, 88, 32, 45, 20, 30]\n",
    "\n",
    "plt.scatter(x, m,label=\"maths marks\")\n",
    "plt.scatter(x, s,label=\"science marks\")\n",
    "plt.legend(loc='upper right')\n",
    "\n",
    "plt.xlabel(\"Marks Range\")\n",
    "plt.ylabel(\"Marks Scored\")\n",
    "plt.title(\"Scatter plot\")\n",
    "plt.show() "
   ]
  },
  {
   "cell_type": "code",
   "execution_count": 69,
   "id": "74ab9e21-bfd1-4e47-a942-4344cfcede67",
   "metadata": {},
   "outputs": [
    {
     "data": {
      "image/png": "[encoded data removed]",
      "text/plain": [
       "<Figure size 432x288 with 1 Axes>"
      ]
     },
     "metadata": {},
     "output_type": "display_data"
    }
   ],
   "source": [
    "\n",
    "import matplotlib.pyplot as plt\n",
    "import pandas as pd\n",
    "\n",
    "df =  pd.read_csv('medal.csv')\n",
    "country_data = df[\"country\"]\n",
    "medal_data = df[\"gold_medal\"]\n",
    "\n",
    "\n",
    "plt.pie(medal_data, labels=country_data)\n",
    "plt.show() \n",
    "\n"
   ]
  },
  {
   "cell_type": "code",
   "execution_count": 70,
   "id": "be8348f6-1c82-43ce-9eb6-ed16ee81edd1",
   "metadata": {},
   "outputs": [
    {
     "data": {
      "image/png": "[encoded data removed]",
      "text/plain": [
       "<Figure size 432x288 with 1 Axes>"
      ]
     },
     "metadata": {},
     "output_type": "display_data"
    }
   ],
   "source": [
    "import matplotlib.pyplot as plt\n",
    "import numpy as np\n",
    "\n",
    "y = np.array([22.2,17.6,8.8,8,7.7,6.7])\n",
    "mylabels = [\"Java\", \"Python\", \"PHP\", \"JavaScript\", \"C#\", \"C++\"]\n",
    "\n",
    "plt.pie(y, labels = mylabels)\n",
    "plt.show()\n"
   ]
  },
  {
   "cell_type": "code",
   "execution_count": 78,
   "id": "a0dde947-616e-4edb-b480-f87871bcff63",
   "metadata": {},
   "outputs": [
    {
     "data": {
      "image/png": "[encoded data removed]",
      "text/plain": [
       "<Figure size 432x288 with 2 Axes>"
      ]
     },
     "metadata": {
      "needs_background": "light"
     },
     "output_type": "display_data"
    }
   ],
   "source": [
    "figure, axis = plt.subplots(1,2)\n",
    "\n",
    "\n",
    "x1 = [10,20,30]\n",
    "y1 = [10,20,30]\n",
    "axis[0].plot(x1, y1)\n",
    "axis[0].set_title(\"Plot 1\")\n",
    "\n",
    "x2 = [10,10,10]\n",
    "y2 = [30,40,50]\n",
    "axis[1].plot(x2, y2)\n",
    "axis[1].set_title(\"Plot 2\")\n",
    "\n",
    "plt.show()"
   ]
  },
  {
   "cell_type": "markdown",
   "id": "818e8277-b815-47fe-b8ee-b6c85a626d00",
   "metadata": {},
   "source": []
  },
  {
   "cell_type": "code",
   "execution_count": 6,
   "id": "02943a6a-afaf-4e2b-b6b3-9434a833e86c",
   "metadata": {},
   "outputs": [
    {
     "data": {
      "text/plain": [
       "'4'"
      ]
     },
     "execution_count": 6,
     "metadata": {},
     "output_type": "execute_result"
    }
   ],
   "source": [
    "x"
   ]
  },
  {
   "cell_type": "code",
   "execution_count": 19,
   "id": "c9954428-97f5-4c7e-b336-1e2716b99d95",
   "metadata": {},
   "outputs": [
    {
     "name": "stdin",
     "output_type": "stream",
     "text": [
      "Enter number of rows 2\n",
      "Enter number of columns 2\n",
      " 3\n",
      " 5\n",
      " 6\n",
      " 3\n"
     ]
    },
    {
     "name": "stdout",
     "output_type": "stream",
     "text": [
      "second matrix\n"
     ]
    },
    {
     "name": "stdin",
     "output_type": "stream",
     "text": [
      " 2\n",
      " 6\n",
      " 3\n",
      " 4\n"
     ]
    },
    {
     "name": "stdout",
     "output_type": "stream",
     "text": [
      "[[21 38]\n",
      " [21 48]]\n"
     ]
    }
   ],
   "source": [
    "import numpy as np\n",
    "r= int(input(\"Enter number of rows\"))\n",
    "c = int(input(\"Enter number of columns\"))\n",
    "y = np.zeros([r,c],dtype=int)\n",
    "z = np.zeros([r,c],dtype=int)\n",
    "for i in range(int(r)):\n",
    "    for j in range(int(c)):\n",
    "      y[i][j]=int(input())  \n",
    "print(\"second matrix\")\n",
    "for i in range(int(r)):\n",
    "    for j in range(int(c)):\n",
    "      z[i][j]=int(input()) \n",
    "print(np.dot(y,z))"
   ]
  },
  {
   "cell_type": "code",
   "execution_count": 60,
   "id": "c96c9d62-4503-4a13-89ab-385fe09d964c",
   "metadata": {},
   "outputs": [
    {
     "name": "stdout",
     "output_type": "stream",
     "text": [
      "[[3 6]\n",
      " [5 3]]\n"
     ]
    }
   ],
   "source": [
    "print(np.transpose(y))"
   ]
  },
  {
   "cell_type": "code",
   "execution_count": 22,
   "id": "67e752c5-7bc8-4647-8380-728d516cead1",
   "metadata": {},
   "outputs": [
    {
     "name": "stdout",
     "output_type": "stream",
     "text": [
      "6\n"
     ]
    }
   ],
   "source": [
    "print(np.trace(y))"
   ]
  },
  {
   "cell_type": "code",
   "execution_count": 56,
   "id": "e90e50cb-99d0-42ae-9638-c2c62248fb37",
   "metadata": {},
   "outputs": [
    {
     "name": "stdout",
     "output_type": "stream",
     "text": [
      "-21.0\n"
     ]
    }
   ],
   "source": [
    "print(np.linalg.det(y))"
   ]
  },
  {
   "cell_type": "code",
   "execution_count": 57,
   "id": "4775ba22-93ea-4471-a296-8e9ef2447fa0",
   "metadata": {},
   "outputs": [
    {
     "name": "stdout",
     "output_type": "stream",
     "text": [
      "2\n"
     ]
    }
   ],
   "source": [
    "print(np.linalg.matrix_rank(y))"
   ]
  },
  {
   "cell_type": "code",
   "execution_count": 58,
   "id": "ce17055e-39e3-4b31-acf5-952773b8fbee",
   "metadata": {},
   "outputs": [
    {
     "name": "stdout",
     "output_type": "stream",
     "text": [
      "[[-0.14285714  0.23809524]\n",
      " [ 0.28571429 -0.14285714]]\n"
     ]
    }
   ],
   "source": [
    "print(np.linalg.inv(y))"
   ]
  },
  {
   "cell_type": "code",
   "execution_count": 50,
   "id": "c534341b-0dc4-4e21-83f6-f735df86adb1",
   "metadata": {},
   "outputs": [
    {
     "data": {
      "text/plain": [
       "(array([-3.,  9.]),\n",
       " array([[-0.70710678,  0.70710678],\n",
       "        [ 0.70710678,  0.70710678]]))"
      ]
     },
     "execution_count": 50,
     "metadata": {},
     "output_type": "execute_result"
    }
   ],
   "source": [
    "np.linalg.eigh(y)"
   ]
  }
 ],
 "metadata": {
  "kernelspec": {
   "display_name": "Python 3 (ipykernel)",
   "language": "python",
   "name": "python3"
  },
  "language_info": {
   "codemirror_mode": {
    "name": "ipython",
    "version": 3
   },
   "file_extension": ".py",
   "mimetype": "text/x-python",
   "name": "python",
   "nbconvert_exporter": "python",
   "pygments_lexer": "ipython3",
   "version": "3.8.0"
  }
 },
 "nbformat": 4,
 "nbformat_minor": 5
}
